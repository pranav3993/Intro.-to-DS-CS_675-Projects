{
 "cells": [
  {
   "cell_type": "code",
   "execution_count": 98,
   "metadata": {},
   "outputs": [],
   "source": [
    "import pandas as pd\n",
    "import seaborn\n",
    "import numpy as np\n",
    "import matplotlib.pyplot as plt\n",
    "from sklearn.linear_model import LinearRegression\n",
    "from sklearn.model_selection import train_test_split\n",
    "from sklearn.metrics import mean_squared_error\n"
   ]
  },
  {
   "cell_type": "code",
   "execution_count": 99,
   "metadata": {},
   "outputs": [
    {
     "data": {
      "text/html": [
       "<div>\n",
       "<style scoped>\n",
       "    .dataframe tbody tr th:only-of-type {\n",
       "        vertical-align: middle;\n",
       "    }\n",
       "\n",
       "    .dataframe tbody tr th {\n",
       "        vertical-align: top;\n",
       "    }\n",
       "\n",
       "    .dataframe thead th {\n",
       "        text-align: right;\n",
       "    }\n",
       "</style>\n",
       "<table border=\"1\" class=\"dataframe\">\n",
       "  <thead>\n",
       "    <tr style=\"text-align: right;\">\n",
       "      <th></th>\n",
       "      <th>AGE</th>\n",
       "      <th>SEX</th>\n",
       "      <th>BMI</th>\n",
       "      <th>BP</th>\n",
       "      <th>S1</th>\n",
       "      <th>S2</th>\n",
       "      <th>S3</th>\n",
       "      <th>S4</th>\n",
       "      <th>S5</th>\n",
       "      <th>S6</th>\n",
       "      <th>Y</th>\n",
       "    </tr>\n",
       "  </thead>\n",
       "  <tbody>\n",
       "    <tr>\n",
       "      <th>0</th>\n",
       "      <td>59</td>\n",
       "      <td>2</td>\n",
       "      <td>32.1</td>\n",
       "      <td>101.00</td>\n",
       "      <td>157</td>\n",
       "      <td>93.2</td>\n",
       "      <td>38.0</td>\n",
       "      <td>4.00</td>\n",
       "      <td>4.8598</td>\n",
       "      <td>87</td>\n",
       "      <td>151</td>\n",
       "    </tr>\n",
       "    <tr>\n",
       "      <th>1</th>\n",
       "      <td>48</td>\n",
       "      <td>1</td>\n",
       "      <td>21.6</td>\n",
       "      <td>87.00</td>\n",
       "      <td>183</td>\n",
       "      <td>103.2</td>\n",
       "      <td>70.0</td>\n",
       "      <td>3.00</td>\n",
       "      <td>3.8918</td>\n",
       "      <td>69</td>\n",
       "      <td>75</td>\n",
       "    </tr>\n",
       "    <tr>\n",
       "      <th>2</th>\n",
       "      <td>72</td>\n",
       "      <td>2</td>\n",
       "      <td>30.5</td>\n",
       "      <td>93.00</td>\n",
       "      <td>156</td>\n",
       "      <td>93.6</td>\n",
       "      <td>41.0</td>\n",
       "      <td>4.00</td>\n",
       "      <td>4.6728</td>\n",
       "      <td>85</td>\n",
       "      <td>141</td>\n",
       "    </tr>\n",
       "    <tr>\n",
       "      <th>3</th>\n",
       "      <td>24</td>\n",
       "      <td>1</td>\n",
       "      <td>25.3</td>\n",
       "      <td>84.00</td>\n",
       "      <td>198</td>\n",
       "      <td>131.4</td>\n",
       "      <td>40.0</td>\n",
       "      <td>5.00</td>\n",
       "      <td>4.8903</td>\n",
       "      <td>89</td>\n",
       "      <td>206</td>\n",
       "    </tr>\n",
       "    <tr>\n",
       "      <th>4</th>\n",
       "      <td>50</td>\n",
       "      <td>1</td>\n",
       "      <td>23.0</td>\n",
       "      <td>101.00</td>\n",
       "      <td>192</td>\n",
       "      <td>125.4</td>\n",
       "      <td>52.0</td>\n",
       "      <td>4.00</td>\n",
       "      <td>4.2905</td>\n",
       "      <td>80</td>\n",
       "      <td>135</td>\n",
       "    </tr>\n",
       "    <tr>\n",
       "      <th>...</th>\n",
       "      <td>...</td>\n",
       "      <td>...</td>\n",
       "      <td>...</td>\n",
       "      <td>...</td>\n",
       "      <td>...</td>\n",
       "      <td>...</td>\n",
       "      <td>...</td>\n",
       "      <td>...</td>\n",
       "      <td>...</td>\n",
       "      <td>...</td>\n",
       "      <td>...</td>\n",
       "    </tr>\n",
       "    <tr>\n",
       "      <th>437</th>\n",
       "      <td>60</td>\n",
       "      <td>2</td>\n",
       "      <td>28.2</td>\n",
       "      <td>112.00</td>\n",
       "      <td>185</td>\n",
       "      <td>113.8</td>\n",
       "      <td>42.0</td>\n",
       "      <td>4.00</td>\n",
       "      <td>4.9836</td>\n",
       "      <td>93</td>\n",
       "      <td>178</td>\n",
       "    </tr>\n",
       "    <tr>\n",
       "      <th>438</th>\n",
       "      <td>47</td>\n",
       "      <td>2</td>\n",
       "      <td>24.9</td>\n",
       "      <td>75.00</td>\n",
       "      <td>225</td>\n",
       "      <td>166.0</td>\n",
       "      <td>42.0</td>\n",
       "      <td>5.00</td>\n",
       "      <td>4.4427</td>\n",
       "      <td>102</td>\n",
       "      <td>104</td>\n",
       "    </tr>\n",
       "    <tr>\n",
       "      <th>439</th>\n",
       "      <td>60</td>\n",
       "      <td>2</td>\n",
       "      <td>24.9</td>\n",
       "      <td>99.67</td>\n",
       "      <td>162</td>\n",
       "      <td>106.6</td>\n",
       "      <td>43.0</td>\n",
       "      <td>3.77</td>\n",
       "      <td>4.1271</td>\n",
       "      <td>95</td>\n",
       "      <td>132</td>\n",
       "    </tr>\n",
       "    <tr>\n",
       "      <th>440</th>\n",
       "      <td>36</td>\n",
       "      <td>1</td>\n",
       "      <td>30.0</td>\n",
       "      <td>95.00</td>\n",
       "      <td>201</td>\n",
       "      <td>125.2</td>\n",
       "      <td>42.0</td>\n",
       "      <td>4.79</td>\n",
       "      <td>5.1299</td>\n",
       "      <td>85</td>\n",
       "      <td>220</td>\n",
       "    </tr>\n",
       "    <tr>\n",
       "      <th>441</th>\n",
       "      <td>36</td>\n",
       "      <td>1</td>\n",
       "      <td>19.6</td>\n",
       "      <td>71.00</td>\n",
       "      <td>250</td>\n",
       "      <td>133.2</td>\n",
       "      <td>97.0</td>\n",
       "      <td>3.00</td>\n",
       "      <td>4.5951</td>\n",
       "      <td>92</td>\n",
       "      <td>57</td>\n",
       "    </tr>\n",
       "  </tbody>\n",
       "</table>\n",
       "<p>442 rows × 11 columns</p>\n",
       "</div>"
      ],
      "text/plain": [
       "     AGE  SEX   BMI      BP   S1     S2    S3    S4      S5   S6    Y\n",
       "0     59    2  32.1  101.00  157   93.2  38.0  4.00  4.8598   87  151\n",
       "1     48    1  21.6   87.00  183  103.2  70.0  3.00  3.8918   69   75\n",
       "2     72    2  30.5   93.00  156   93.6  41.0  4.00  4.6728   85  141\n",
       "3     24    1  25.3   84.00  198  131.4  40.0  5.00  4.8903   89  206\n",
       "4     50    1  23.0  101.00  192  125.4  52.0  4.00  4.2905   80  135\n",
       "..   ...  ...   ...     ...  ...    ...   ...   ...     ...  ...  ...\n",
       "437   60    2  28.2  112.00  185  113.8  42.0  4.00  4.9836   93  178\n",
       "438   47    2  24.9   75.00  225  166.0  42.0  5.00  4.4427  102  104\n",
       "439   60    2  24.9   99.67  162  106.6  43.0  3.77  4.1271   95  132\n",
       "440   36    1  30.0   95.00  201  125.2  42.0  4.79  5.1299   85  220\n",
       "441   36    1  19.6   71.00  250  133.2  97.0  3.00  4.5951   92   57\n",
       "\n",
       "[442 rows x 11 columns]"
      ]
     },
     "execution_count": 99,
     "metadata": {},
     "output_type": "execute_result"
    }
   ],
   "source": [
    "data = pd.read_csv('C:/Users/prana/Desktop/SAI/diabetes.csv')\n",
    "data"
   ]
  },
  {
   "cell_type": "code",
   "execution_count": 100,
   "metadata": {},
   "outputs": [
    {
     "data": {
      "text/plain": [
       "Index(['AGE', 'SEX', 'BMI', 'BP', 'S1', 'S2', 'S3', 'S4', 'S5', 'S6', 'Y'], dtype='object')"
      ]
     },
     "execution_count": 100,
     "metadata": {},
     "output_type": "execute_result"
    }
   ],
   "source": [
    "data.columns\n"
   ]
  },
  {
   "cell_type": "code",
   "execution_count": 102,
   "metadata": {},
   "outputs": [
    {
     "data": {
      "text/html": [
       "<div>\n",
       "<style scoped>\n",
       "    .dataframe tbody tr th:only-of-type {\n",
       "        vertical-align: middle;\n",
       "    }\n",
       "\n",
       "    .dataframe tbody tr th {\n",
       "        vertical-align: top;\n",
       "    }\n",
       "\n",
       "    .dataframe thead th {\n",
       "        text-align: right;\n",
       "    }\n",
       "</style>\n",
       "<table border=\"1\" class=\"dataframe\">\n",
       "  <thead>\n",
       "    <tr style=\"text-align: right;\">\n",
       "      <th></th>\n",
       "      <th>AGE</th>\n",
       "      <th>SEX</th>\n",
       "      <th>BMI</th>\n",
       "      <th>BP</th>\n",
       "      <th>S1</th>\n",
       "      <th>S2</th>\n",
       "      <th>S3</th>\n",
       "      <th>S4</th>\n",
       "      <th>S5</th>\n",
       "      <th>S6</th>\n",
       "      <th>Y</th>\n",
       "    </tr>\n",
       "  </thead>\n",
       "  <tbody>\n",
       "    <tr>\n",
       "      <th>AGE</th>\n",
       "      <td>1.000000</td>\n",
       "      <td>0.173737</td>\n",
       "      <td>0.185085</td>\n",
       "      <td>0.335428</td>\n",
       "      <td>0.260061</td>\n",
       "      <td>0.219243</td>\n",
       "      <td>-0.075181</td>\n",
       "      <td>0.203841</td>\n",
       "      <td>0.270774</td>\n",
       "      <td>0.301731</td>\n",
       "      <td>0.187889</td>\n",
       "    </tr>\n",
       "    <tr>\n",
       "      <th>SEX</th>\n",
       "      <td>0.173737</td>\n",
       "      <td>1.000000</td>\n",
       "      <td>0.088161</td>\n",
       "      <td>0.241010</td>\n",
       "      <td>0.035277</td>\n",
       "      <td>0.142637</td>\n",
       "      <td>-0.379090</td>\n",
       "      <td>0.332115</td>\n",
       "      <td>0.149916</td>\n",
       "      <td>0.208133</td>\n",
       "      <td>0.043062</td>\n",
       "    </tr>\n",
       "    <tr>\n",
       "      <th>BMI</th>\n",
       "      <td>0.185085</td>\n",
       "      <td>0.088161</td>\n",
       "      <td>1.000000</td>\n",
       "      <td>0.395411</td>\n",
       "      <td>0.249777</td>\n",
       "      <td>0.261170</td>\n",
       "      <td>-0.366811</td>\n",
       "      <td>0.413807</td>\n",
       "      <td>0.446157</td>\n",
       "      <td>0.388680</td>\n",
       "      <td>0.586450</td>\n",
       "    </tr>\n",
       "    <tr>\n",
       "      <th>BP</th>\n",
       "      <td>0.335428</td>\n",
       "      <td>0.241010</td>\n",
       "      <td>0.395411</td>\n",
       "      <td>1.000000</td>\n",
       "      <td>0.242464</td>\n",
       "      <td>0.185548</td>\n",
       "      <td>-0.178762</td>\n",
       "      <td>0.257650</td>\n",
       "      <td>0.393480</td>\n",
       "      <td>0.390430</td>\n",
       "      <td>0.441482</td>\n",
       "    </tr>\n",
       "    <tr>\n",
       "      <th>S1</th>\n",
       "      <td>0.260061</td>\n",
       "      <td>0.035277</td>\n",
       "      <td>0.249777</td>\n",
       "      <td>0.242464</td>\n",
       "      <td>1.000000</td>\n",
       "      <td>0.896663</td>\n",
       "      <td>0.051519</td>\n",
       "      <td>0.542207</td>\n",
       "      <td>0.515503</td>\n",
       "      <td>0.325717</td>\n",
       "      <td>0.212022</td>\n",
       "    </tr>\n",
       "    <tr>\n",
       "      <th>S2</th>\n",
       "      <td>0.219243</td>\n",
       "      <td>0.142637</td>\n",
       "      <td>0.261170</td>\n",
       "      <td>0.185548</td>\n",
       "      <td>0.896663</td>\n",
       "      <td>1.000000</td>\n",
       "      <td>-0.196455</td>\n",
       "      <td>0.659817</td>\n",
       "      <td>0.318357</td>\n",
       "      <td>0.290600</td>\n",
       "      <td>0.174054</td>\n",
       "    </tr>\n",
       "    <tr>\n",
       "      <th>S3</th>\n",
       "      <td>-0.075181</td>\n",
       "      <td>-0.379090</td>\n",
       "      <td>-0.366811</td>\n",
       "      <td>-0.178762</td>\n",
       "      <td>0.051519</td>\n",
       "      <td>-0.196455</td>\n",
       "      <td>1.000000</td>\n",
       "      <td>-0.738493</td>\n",
       "      <td>-0.398577</td>\n",
       "      <td>-0.273697</td>\n",
       "      <td>-0.394789</td>\n",
       "    </tr>\n",
       "    <tr>\n",
       "      <th>S4</th>\n",
       "      <td>0.203841</td>\n",
       "      <td>0.332115</td>\n",
       "      <td>0.413807</td>\n",
       "      <td>0.257650</td>\n",
       "      <td>0.542207</td>\n",
       "      <td>0.659817</td>\n",
       "      <td>-0.738493</td>\n",
       "      <td>1.000000</td>\n",
       "      <td>0.617859</td>\n",
       "      <td>0.417212</td>\n",
       "      <td>0.430453</td>\n",
       "    </tr>\n",
       "    <tr>\n",
       "      <th>S5</th>\n",
       "      <td>0.270774</td>\n",
       "      <td>0.149916</td>\n",
       "      <td>0.446157</td>\n",
       "      <td>0.393480</td>\n",
       "      <td>0.515503</td>\n",
       "      <td>0.318357</td>\n",
       "      <td>-0.398577</td>\n",
       "      <td>0.617859</td>\n",
       "      <td>1.000000</td>\n",
       "      <td>0.464669</td>\n",
       "      <td>0.565883</td>\n",
       "    </tr>\n",
       "    <tr>\n",
       "      <th>S6</th>\n",
       "      <td>0.301731</td>\n",
       "      <td>0.208133</td>\n",
       "      <td>0.388680</td>\n",
       "      <td>0.390430</td>\n",
       "      <td>0.325717</td>\n",
       "      <td>0.290600</td>\n",
       "      <td>-0.273697</td>\n",
       "      <td>0.417212</td>\n",
       "      <td>0.464669</td>\n",
       "      <td>1.000000</td>\n",
       "      <td>0.382483</td>\n",
       "    </tr>\n",
       "    <tr>\n",
       "      <th>Y</th>\n",
       "      <td>0.187889</td>\n",
       "      <td>0.043062</td>\n",
       "      <td>0.586450</td>\n",
       "      <td>0.441482</td>\n",
       "      <td>0.212022</td>\n",
       "      <td>0.174054</td>\n",
       "      <td>-0.394789</td>\n",
       "      <td>0.430453</td>\n",
       "      <td>0.565883</td>\n",
       "      <td>0.382483</td>\n",
       "      <td>1.000000</td>\n",
       "    </tr>\n",
       "  </tbody>\n",
       "</table>\n",
       "</div>"
      ],
      "text/plain": [
       "          AGE       SEX       BMI        BP        S1        S2        S3  \\\n",
       "AGE  1.000000  0.173737  0.185085  0.335428  0.260061  0.219243 -0.075181   \n",
       "SEX  0.173737  1.000000  0.088161  0.241010  0.035277  0.142637 -0.379090   \n",
       "BMI  0.185085  0.088161  1.000000  0.395411  0.249777  0.261170 -0.366811   \n",
       "BP   0.335428  0.241010  0.395411  1.000000  0.242464  0.185548 -0.178762   \n",
       "S1   0.260061  0.035277  0.249777  0.242464  1.000000  0.896663  0.051519   \n",
       "S2   0.219243  0.142637  0.261170  0.185548  0.896663  1.000000 -0.196455   \n",
       "S3  -0.075181 -0.379090 -0.366811 -0.178762  0.051519 -0.196455  1.000000   \n",
       "S4   0.203841  0.332115  0.413807  0.257650  0.542207  0.659817 -0.738493   \n",
       "S5   0.270774  0.149916  0.446157  0.393480  0.515503  0.318357 -0.398577   \n",
       "S6   0.301731  0.208133  0.388680  0.390430  0.325717  0.290600 -0.273697   \n",
       "Y    0.187889  0.043062  0.586450  0.441482  0.212022  0.174054 -0.394789   \n",
       "\n",
       "           S4        S5        S6         Y  \n",
       "AGE  0.203841  0.270774  0.301731  0.187889  \n",
       "SEX  0.332115  0.149916  0.208133  0.043062  \n",
       "BMI  0.413807  0.446157  0.388680  0.586450  \n",
       "BP   0.257650  0.393480  0.390430  0.441482  \n",
       "S1   0.542207  0.515503  0.325717  0.212022  \n",
       "S2   0.659817  0.318357  0.290600  0.174054  \n",
       "S3  -0.738493 -0.398577 -0.273697 -0.394789  \n",
       "S4   1.000000  0.617859  0.417212  0.430453  \n",
       "S5   0.617859  1.000000  0.464669  0.565883  \n",
       "S6   0.417212  0.464669  1.000000  0.382483  \n",
       "Y    0.430453  0.565883  0.382483  1.000000  "
      ]
     },
     "execution_count": 102,
     "metadata": {},
     "output_type": "execute_result"
    }
   ],
   "source": [
    "data.corr()"
   ]
  },
  {
   "cell_type": "code",
   "execution_count": 103,
   "metadata": {},
   "outputs": [
    {
     "data": {
      "text/plain": [
       "<AxesSubplot:>"
      ]
     },
     "execution_count": 103,
     "metadata": {},
     "output_type": "execute_result"
    },
    {
     "data": {
      "image/png": "[encoded data removed]",
      "text/plain": [
       "<Figure size 720x720 with 2 Axes>"
      ]
     },
     "metadata": {
      "needs_background": "light"
     },
     "output_type": "display_data"
    }
   ],
   "source": [
    "plt.figure(figsize=(10,10))\n",
    "seaborn.heatmap(data.corr(), annot=True, cmap = \"coolwarm\")"
   ]
  },
  {
   "cell_type": "code",
   "execution_count": 104,
   "metadata": {},
   "outputs": [
    {
     "data": {
      "image/png": "[encoded data removed]",
      "text/plain": [
       "<Figure size 432x288 with 1 Axes>"
      ]
     },
     "metadata": {
      "needs_background": "light"
     },
     "output_type": "display_data"
    }
   ],
   "source": [
    "data.plot(kind='scatter', x='S5', y='Y')\n",
    "# AGE SCATTERED MORE\n",
    "# SEX: NOT AT ALL\n",
    "# BMI: CAN TRY --- THIS IS IT\n",
    "# BP: NOPE\n",
    "# S1:NOPE\n",
    "# S2:NOPE\n",
    "# S3:NOPE\n",
    "# S4:NO CHANCE\n",
    "# S5:CAN TRY\n",
    "# S6:NO CHANCE\n",
    "plt.show()"
   ]
  },
  {
   "cell_type": "code",
   "execution_count": 105,
   "metadata": {},
   "outputs": [
    {
     "data": {
      "image/png": "[encoded data removed]",
      "text/plain": [
       "<Figure size 432x288 with 1 Axes>"
      ]
     },
     "metadata": {
      "needs_background": "light"
     },
     "output_type": "display_data"
    }
   ],
   "source": [
    "data.plot(kind='scatter', x='BMI', y='Y')\n",
    "# AGE SCATTERED MORE\n",
    "# SEX: NOT AT ALL\n",
    "# BMI: CAN TRY --- THIS IS IT\n",
    "# BP: NOPE\n",
    "# S1:NOPE\n",
    "# S2:NOPE\n",
    "# S3:NOPE\n",
    "# S4:NO CHANCE\n",
    "# S5:CAN TRY\n",
    "# S6:NO CHANCE\n",
    "plt.show()"
   ]
  },
  {
   "cell_type": "code",
   "execution_count": 106,
   "metadata": {},
   "outputs": [],
   "source": [
    "x = data['BMI']\n",
    "y = data['Y']"
   ]
  },
  {
   "cell_type": "code",
   "execution_count": 107,
   "metadata": {},
   "outputs": [
    {
     "data": {
      "text/plain": [
       "0      32.1\n",
       "1      21.6\n",
       "2      30.5\n",
       "3      25.3\n",
       "4      23.0\n",
       "       ... \n",
       "437    28.2\n",
       "438    24.9\n",
       "439    24.9\n",
       "440    30.0\n",
       "441    19.6\n",
       "Name: BMI, Length: 442, dtype: float64"
      ]
     },
     "execution_count": 107,
     "metadata": {},
     "output_type": "execute_result"
    }
   ],
   "source": [
    "x"
   ]
  },
  {
   "cell_type": "code",
   "execution_count": 108,
   "metadata": {},
   "outputs": [
    {
     "data": {
      "text/plain": [
       "0      151\n",
       "1       75\n",
       "2      141\n",
       "3      206\n",
       "4      135\n",
       "      ... \n",
       "437    178\n",
       "438    104\n",
       "439    132\n",
       "440    220\n",
       "441     57\n",
       "Name: Y, Length: 442, dtype: int64"
      ]
     },
     "execution_count": 108,
     "metadata": {},
     "output_type": "execute_result"
    }
   ],
   "source": [
    "y"
   ]
  },
  {
   "cell_type": "code",
   "execution_count": 109,
   "metadata": {},
   "outputs": [],
   "source": [
    "# X_train, X_test, Y_train, Y_test = train_test_split(x, y, test_size=0.2)\n",
    "X_train, X_test, Y_train, Y_test = train_test_split(x, y, test_size=0.2, random_state = 10)\n",
    "X_train = X_train.values.reshape(-1,1)\n",
    "X_test = X_test.values.reshape(-1,1)"
   ]
  },
  {
   "cell_type": "code",
   "execution_count": 110,
   "metadata": {},
   "outputs": [
    {
     "data": {
      "text/plain": [
       "353"
      ]
     },
     "execution_count": 110,
     "metadata": {},
     "output_type": "execute_result"
    }
   ],
   "source": [
    "len(X_train)"
   ]
  },
  {
   "cell_type": "code",
   "execution_count": 111,
   "metadata": {},
   "outputs": [
    {
     "data": {
      "text/plain": [
       "353"
      ]
     },
     "execution_count": 111,
     "metadata": {},
     "output_type": "execute_result"
    }
   ],
   "source": [
    "len(Y_train)"
   ]
  },
  {
   "cell_type": "code",
   "execution_count": 112,
   "metadata": {},
   "outputs": [
    {
     "data": {
      "text/plain": [
       "89"
      ]
     },
     "execution_count": 112,
     "metadata": {},
     "output_type": "execute_result"
    }
   ],
   "source": [
    "len(X_test)"
   ]
  },
  {
   "cell_type": "code",
   "execution_count": 113,
   "metadata": {},
   "outputs": [
    {
     "data": {
      "text/plain": [
       "89"
      ]
     },
     "execution_count": 113,
     "metadata": {},
     "output_type": "execute_result"
    }
   ],
   "source": [
    "len(Y_test)"
   ]
  },
  {
   "cell_type": "code",
   "execution_count": 115,
   "metadata": {},
   "outputs": [
    {
     "data": {
      "text/plain": [
       "array([[31.9],\n",
       "       [33.8],\n",
       "       [24.1],\n",
       "       [33.1],\n",
       "       [29.5],\n",
       "       [31.4],\n",
       "       [22.8],\n",
       "       [25.6],\n",
       "       [20.4],\n",
       "       [27.7],\n",
       "       [22.7],\n",
       "       [23.3],\n",
       "       [28.1],\n",
       "       [27.8],\n",
       "       [25.8],\n",
       "       [22.1],\n",
       "       [22.5],\n",
       "       [29. ],\n",
       "       [34.6],\n",
       "       [25.1],\n",
       "       [20.6],\n",
       "       [31.9],\n",
       "       [27.2],\n",
       "       [23.3],\n",
       "       [29.2],\n",
       "       [20.7],\n",
       "       [18. ],\n",
       "       [27.5],\n",
       "       [19.9],\n",
       "       [25.5],\n",
       "       [30. ],\n",
       "       [33.3],\n",
       "       [32.1],\n",
       "       [28.1],\n",
       "       [24. ],\n",
       "       [25.5],\n",
       "       [31.9],\n",
       "       [27.7],\n",
       "       [22.8],\n",
       "       [23.4],\n",
       "       [22.1],\n",
       "       [23.4],\n",
       "       [23.5],\n",
       "       [28.8],\n",
       "       [32. ],\n",
       "       [26.5],\n",
       "       [28. ],\n",
       "       [28.7],\n",
       "       [22.1],\n",
       "       [29.8],\n",
       "       [31.4],\n",
       "       [34.3],\n",
       "       [28.3],\n",
       "       [20.5],\n",
       "       [25.8],\n",
       "       [28.8],\n",
       "       [23.2],\n",
       "       [21.3],\n",
       "       [26.8],\n",
       "       [26.7],\n",
       "       [25.8],\n",
       "       [31.4],\n",
       "       [32.7],\n",
       "       [27.5],\n",
       "       [27.3],\n",
       "       [30.5],\n",
       "       [24. ],\n",
       "       [26.1],\n",
       "       [25.2],\n",
       "       [30.1],\n",
       "       [30.1],\n",
       "       [33.6],\n",
       "       [22.2],\n",
       "       [22.5],\n",
       "       [21.1],\n",
       "       [23.1],\n",
       "       [32.8],\n",
       "       [20.8],\n",
       "       [33. ],\n",
       "       [26.5],\n",
       "       [28.6],\n",
       "       [26.6],\n",
       "       [27. ],\n",
       "       [24.1],\n",
       "       [26.1],\n",
       "       [23.5],\n",
       "       [23.4],\n",
       "       [25.5],\n",
       "       [28.5],\n",
       "       [36.7],\n",
       "       [39.1],\n",
       "       [25.9],\n",
       "       [31.8],\n",
       "       [25.7],\n",
       "       [25.5],\n",
       "       [25.2],\n",
       "       [21.3],\n",
       "       [26.8],\n",
       "       [23.5],\n",
       "       [18.5],\n",
       "       [24.7],\n",
       "       [25.3],\n",
       "       [26.9],\n",
       "       [24. ],\n",
       "       [20.2],\n",
       "       [30.6],\n",
       "       [22.6],\n",
       "       [29.4],\n",
       "       [36.1],\n",
       "       [32.6],\n",
       "       [23.6],\n",
       "       [23.3],\n",
       "       [18.1],\n",
       "       [27.7],\n",
       "       [25.2],\n",
       "       [32.4],\n",
       "       [20.9],\n",
       "       [22.5],\n",
       "       [26. ],\n",
       "       [28.2],\n",
       "       [26.7],\n",
       "       [24.3],\n",
       "       [24. ],\n",
       "       [19.3],\n",
       "       [24.9],\n",
       "       [32.1],\n",
       "       [26.2],\n",
       "       [27.7],\n",
       "       [24.1],\n",
       "       [26.8],\n",
       "       [20.4],\n",
       "       [32.8],\n",
       "       [23.5],\n",
       "       [27. ],\n",
       "       [34.6],\n",
       "       [28.5],\n",
       "       [27.8],\n",
       "       [33. ],\n",
       "       [20.3],\n",
       "       [22. ],\n",
       "       [29.6],\n",
       "       [24.5],\n",
       "       [23.6],\n",
       "       [24.2],\n",
       "       [24.4],\n",
       "       [24.4],\n",
       "       [25.8],\n",
       "       [23.6],\n",
       "       [25.6],\n",
       "       [32.1],\n",
       "       [25.7],\n",
       "       [21.9],\n",
       "       [23.3],\n",
       "       [42.2],\n",
       "       [21.8],\n",
       "       [25.7],\n",
       "       [23. ],\n",
       "       [27.8],\n",
       "       [22.2],\n",
       "       [25.1],\n",
       "       [27.3],\n",
       "       [32. ],\n",
       "       [21.2],\n",
       "       [30.7],\n",
       "       [31. ],\n",
       "       [22.9],\n",
       "       [27.9],\n",
       "       [23.2],\n",
       "       [24.6],\n",
       "       [30.3],\n",
       "       [19.4],\n",
       "       [25.3],\n",
       "       [30. ],\n",
       "       [29.2],\n",
       "       [26.5],\n",
       "       [25.4],\n",
       "       [18.9],\n",
       "       [29.5],\n",
       "       [24.1],\n",
       "       [31. ],\n",
       "       [23.3],\n",
       "       [22.1],\n",
       "       [26.8],\n",
       "       [30. ],\n",
       "       [23. ],\n",
       "       [38. ],\n",
       "       [27. ],\n",
       "       [19.2],\n",
       "       [19.6],\n",
       "       [30.2],\n",
       "       [27.7],\n",
       "       [24.4],\n",
       "       [35.1],\n",
       "       [24.2],\n",
       "       [23.9],\n",
       "       [25.3],\n",
       "       [28.1],\n",
       "       [28.8],\n",
       "       [22.3],\n",
       "       [19.5],\n",
       "       [30.5],\n",
       "       [20.3],\n",
       "       [19.8],\n",
       "       [18.8],\n",
       "       [23.2],\n",
       "       [36.1],\n",
       "       [31.9],\n",
       "       [21.1],\n",
       "       [24.9],\n",
       "       [20.2],\n",
       "       [22.1],\n",
       "       [26.5],\n",
       "       [26.3],\n",
       "       [26.5],\n",
       "       [28. ],\n",
       "       [22.5],\n",
       "       [23.6],\n",
       "       [26.9],\n",
       "       [22.6],\n",
       "       [23.1],\n",
       "       [21. ],\n",
       "       [25. ],\n",
       "       [27.3],\n",
       "       [26. ],\n",
       "       [31.6],\n",
       "       [31.4],\n",
       "       [31.9],\n",
       "       [30.4],\n",
       "       [25.7],\n",
       "       [30.7],\n",
       "       [24.7],\n",
       "       [35.4],\n",
       "       [21.2],\n",
       "       [24. ],\n",
       "       [20.1],\n",
       "       [29.8],\n",
       "       [21.2],\n",
       "       [31. ],\n",
       "       [24.9],\n",
       "       [25.6],\n",
       "       [24.5],\n",
       "       [21.7],\n",
       "       [21. ],\n",
       "       [27.9],\n",
       "       [24. ],\n",
       "       [30.6],\n",
       "       [27. ],\n",
       "       [24.5],\n",
       "       [25.3],\n",
       "       [32. ],\n",
       "       [20.6],\n",
       "       [20.2],\n",
       "       [21.2],\n",
       "       [23.1],\n",
       "       [26.6],\n",
       "       [25. ],\n",
       "       [26. ],\n",
       "       [20. ],\n",
       "       [25.4],\n",
       "       [26.4],\n",
       "       [22.9],\n",
       "       [24.7],\n",
       "       [33. ],\n",
       "       [22.7],\n",
       "       [34.6],\n",
       "       [28.3],\n",
       "       [28. ],\n",
       "       [32.9],\n",
       "       [30. ],\n",
       "       [33. ],\n",
       "       [23.4],\n",
       "       [30.4],\n",
       "       [26.9],\n",
       "       [31.5],\n",
       "       [27.2],\n",
       "       [28.3],\n",
       "       [33.5],\n",
       "       [26.9],\n",
       "       [25.8],\n",
       "       [26.2],\n",
       "       [21. ],\n",
       "       [35. ],\n",
       "       [23.7],\n",
       "       [23. ],\n",
       "       [21.4],\n",
       "       [32.7],\n",
       "       [19.7],\n",
       "       [31.6],\n",
       "       [31.5],\n",
       "       [24.3],\n",
       "       [29.2],\n",
       "       [31.6],\n",
       "       [38.3],\n",
       "       [26.9],\n",
       "       [29.5],\n",
       "       [25.4],\n",
       "       [28.1],\n",
       "       [24.9],\n",
       "       [29.7],\n",
       "       [26.6],\n",
       "       [24.2],\n",
       "       [30.8],\n",
       "       [24.8],\n",
       "       [23.8],\n",
       "       [20.4],\n",
       "       [25.4],\n",
       "       [21.5],\n",
       "       [24.3],\n",
       "       [31.3],\n",
       "       [20.3],\n",
       "       [31.2],\n",
       "       [27.7],\n",
       "       [21.9],\n",
       "       [20.3],\n",
       "       [21.3],\n",
       "       [28.4],\n",
       "       [24.5],\n",
       "       [30.8],\n",
       "       [32. ],\n",
       "       [22.1],\n",
       "       [26.2],\n",
       "       [23. ],\n",
       "       [27.9],\n",
       "       [24.9],\n",
       "       [28.9],\n",
       "       [27.4],\n",
       "       [21. ],\n",
       "       [21.7],\n",
       "       [25.7],\n",
       "       [33.9],\n",
       "       [24.1],\n",
       "       [25.3],\n",
       "       [28.7],\n",
       "       [26.5],\n",
       "       [28.2],\n",
       "       [23.3],\n",
       "       [30.3],\n",
       "       [25.5],\n",
       "       [23. ],\n",
       "       [25.6],\n",
       "       [41.3],\n",
       "       [24.5],\n",
       "       [32.1],\n",
       "       [28.2],\n",
       "       [26.3],\n",
       "       [22.8],\n",
       "       [25.4],\n",
       "       [29.6],\n",
       "       [29.9],\n",
       "       [29.2],\n",
       "       [24.7],\n",
       "       [25.6],\n",
       "       [24. ]])"
      ]
     },
     "execution_count": 115,
     "metadata": {},
     "output_type": "execute_result"
    }
   ],
   "source": [
    "X_train"
   ]
  },
  {
   "cell_type": "code",
   "execution_count": 116,
   "metadata": {},
   "outputs": [],
   "source": [
    "LR = LinearRegression()"
   ]
  },
  {
   "cell_type": "code",
   "execution_count": 117,
   "metadata": {},
   "outputs": [
    {
     "data": {
      "text/plain": [
       "LinearRegression()"
      ]
     },
     "execution_count": 117,
     "metadata": {},
     "output_type": "execute_result"
    }
   ],
   "source": [
    "LR.fit(X_test, Y_test)"
   ]
  },
  {
   "cell_type": "code",
   "execution_count": 88,
   "metadata": {},
   "outputs": [
    {
     "data": {
      "text/plain": [
       "array([107.70476691, 193.15348728, 157.3842555 , 135.52528052,\n",
       "       160.36502481, 177.25605093, 128.57015211, 268.66630994,\n",
       "       113.66630554, 129.56374188, 129.56374188, 147.44835778,\n",
       "       184.21117933,  77.89707375, 132.5445112 , 256.74323268,\n",
       "       147.44835778, 113.66630554, 211.03810317,  94.78809987,\n",
       "       128.57015211, 239.85220656, 107.70476691, 205.07656454,\n",
       "        86.8393817 , 122.60861348, 143.47399869, 114.65989531,\n",
       "       167.32015321, 116.64707485, 241.8393861 , 236.87143724,\n",
       "        95.78168964, 118.63425439, 180.23682025, 155.39707595,\n",
       "       103.73040782, 193.15348728, 264.69195085, 139.4996396 ,\n",
       "       150.42912709, 133.53810097, 218.98682135, 146.45476801,\n",
       "        92.80092033, 143.47399869,  93.7945101 ,  75.90989421,\n",
       "       252.76887359, 115.65348508, 123.60220325,  96.77527942,\n",
       "        83.85861238, 236.87143724, 207.06374409, 122.60861348,\n",
       "       129.56374188, 146.45476801, 173.28169184, 149.43553732,\n",
       "       148.44194755, 109.69194645, 122.60861348,  73.92271466,\n",
       "        79.88425329, 229.91630884, 188.18553842, 111.67912599,\n",
       "        97.76886919, 155.39707595, 216.9996418 , 146.45476801,\n",
       "       122.60861348,  86.8393817 , 210.0445134 , 199.11502591,\n",
       "       162.35220435, 115.65348508, 113.66630554, 128.57015211,\n",
       "       179.24323048, 130.55733166, 189.17912819, 177.25605093,\n",
       "       161.35861458, 134.53169074, 114.65989531, 108.69835668,\n",
       "       124.59579303])"
      ]
     },
     "execution_count": 88,
     "metadata": {},
     "output_type": "execute_result"
    }
   ],
   "source": [
    "LR.predict(X_test)"
   ]
  },
  {
   "cell_type": "code",
   "execution_count": 118,
   "metadata": {},
   "outputs": [
    {
     "data": {
      "text/plain": [
       "119    200\n",
       "207    202\n",
       "236     67\n",
       "288     80\n",
       "174    151\n",
       "      ... \n",
       "37     276\n",
       "66     150\n",
       "305    124\n",
       "308    114\n",
       "12     179\n",
       "Name: Y, Length: 89, dtype: int64"
      ]
     },
     "execution_count": 118,
     "metadata": {},
     "output_type": "execute_result"
    }
   ],
   "source": [
    "Y_test"
   ]
  },
  {
   "cell_type": "code",
   "execution_count": 119,
   "metadata": {},
   "outputs": [
    {
     "data": {
      "text/plain": [
       "0.37142524353983986"
      ]
     },
     "execution_count": 119,
     "metadata": {},
     "output_type": "execute_result"
    }
   ],
   "source": [
    "LR.score(X_test, Y_test)"
   ]
  },
  {
   "cell_type": "code",
   "execution_count": 120,
   "metadata": {},
   "outputs": [],
   "source": [
    "y_predict = LR.predict(X_test)"
   ]
  },
  {
   "cell_type": "code",
   "execution_count": 92,
   "metadata": {},
   "outputs": [
    {
     "data": {
      "image/png": "[encoded data removed]",
      "text/plain": [
       "<Figure size 432x288 with 1 Axes>"
      ]
     },
     "metadata": {
      "needs_background": "light"
     },
     "output_type": "display_data"
    }
   ],
   "source": [
    "plt.scatter(X_test, Y_test)\n",
    "plt.plot(X_test,y_predict, color='red')\n",
    "plt.show()"
   ]
  },
  {
   "cell_type": "code",
   "execution_count": 121,
   "metadata": {},
   "outputs": [
    {
     "name": "stdout",
     "output_type": "stream",
     "text": [
      "[9.93589772]\n"
     ]
    }
   ],
   "source": [
    "print(LR.coef_)"
   ]
  },
  {
   "cell_type": "code",
   "execution_count": 122,
   "metadata": {},
   "outputs": [
    {
     "name": "stdout",
     "output_type": "stream",
     "text": [
      "-110.88498289213743\n"
     ]
    }
   ],
   "source": [
    "print(LR.intercept_)"
   ]
  },
  {
   "cell_type": "code",
   "execution_count": 125,
   "metadata": {},
   "outputs": [
    {
     "data": {
      "text/plain": [
       "3929.3405500516633"
      ]
     },
     "execution_count": 125,
     "metadata": {},
     "output_type": "execute_result"
    }
   ],
   "source": [
    "mean_squared_error(Y_test, y_predict)"
   ]
  },
  {
   "cell_type": "code",
   "execution_count": null,
   "metadata": {},
   "outputs": [],
   "source": []
  }
 ],
 "metadata": {
  "kernelspec": {
   "display_name": "Python 3",
   "language": "python",
   "name": "python3"
  },
  "language_info": {
   "codemirror_mode": {
    "name": "ipython",
    "version": 3
   },
   "file_extension": ".py",
   "mimetype": "text/x-python",
   "name": "python",
   "nbconvert_exporter": "python",
   "pygments_lexer": "ipython3",
   "version": "3.8.5"
  }
 },
 "nbformat": 4,
 "nbformat_minor": 4
}
