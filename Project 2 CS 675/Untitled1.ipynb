{
 "cells": [
  {
   "cell_type": "code",
   "execution_count": null,
   "metadata": {},
   "outputs": [],
   "source": [
    "import dash\n",
    "import plotly.express as px\n",
    "import pandas as pd\n",
    "import dash_core_components as dcc\n",
    "import dash_html_components as html\n",
    "from dash.dependencies import Output, Input\n",
    "\n",
    "df = pd.read_csv('C:/Users/prana/Desktop/CS 632P Proj_2/securities_prices_volumes.csv')\n",
    "\n",
    "app = dash.Dash(__name__)\n",
    "\n",
    "app.layout=html.Div([\n",
    "    html.H1(\"Graph Analysis with Charming Data\"),\n",
    "    dcc.Dropdown(id='genre-choice',\n",
    "                 options=[{'label':x, 'value':x}\n",
    "                          for x in sorted(df.Stock.unique())],\n",
    "                 value='AAPL'\n",
    "                 ),\n",
    "    dcc.Graph(id='my-graph',\n",
    "              figure={}),\n",
    "])\n",
    "@app.callback(\n",
    "    Output(component_id='my-graph', component_property='figure'),\n",
    "    Input(component_id='genre-choice', component_property='value')\n",
    ")\n",
    "def interactive_graphs(value_genre):\n",
    "    print(value_genre)\n",
    "    dff = df[df.Stock==value_genre]\n",
    "    fig = px.bar(data_frame=dff, x='Date', y='Stock')\n",
    "    return fig\n",
    "\n",
    "\n",
    "if __name__=='__main__':\n",
    "    app.run_server(debug = False)"
   ]
  },
  {
   "cell_type": "code",
   "execution_count": null,
   "metadata": {},
   "outputs": [],
   "source": []
  }
 ],
 "metadata": {
  "kernelspec": {
   "display_name": "Python 3",
   "language": "python",
   "name": "python3"
  },
  "language_info": {
   "codemirror_mode": {
    "name": "ipython",
    "version": 3
   },
   "file_extension": ".py",
   "mimetype": "text/x-python",
   "name": "python",
   "nbconvert_exporter": "python",
   "pygments_lexer": "ipython3",
   "version": "3.8.5"
  }
 },
 "nbformat": 4,
 "nbformat_minor": 4
}
