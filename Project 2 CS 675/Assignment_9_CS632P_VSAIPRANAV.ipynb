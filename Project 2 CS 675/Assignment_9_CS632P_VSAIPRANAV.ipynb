{
 "cells": [
  {
   "cell_type": "markdown",
   "metadata": {},
   "source": [
    "# 1st Method using 2 Dropdowns"
   ]
  },
  {
   "cell_type": "code",
   "execution_count": null,
   "metadata": {},
   "outputs": [],
   "source": [
    "import dash\n",
    "import dash_html_components as html\n",
    "import dash_core_components as dcc\n",
    "\n",
    "external_stylesheets = ['https://codepen.io/chriddyp/pen/bWLwgP.css']\n",
    "\n",
    "app = dash.Dash(__name__, external_stylesheets=external_stylesheets)\n",
    "app.layout = html.Div([\n",
    "    dcc.Dropdown(id='First_DD',\n",
    "        options=[\n",
    "            {'label': 'Spring_2021', 'value': 'Spring_2021'},\n",
    "            {'label': 'Fall_2021', 'value': 'Fall_2021'},\n",
    "        ],\n",
    "        value='Spring_2021'\n",
    "    ),\n",
    "    dcc.Dropdown(id='Second_DD',\n",
    "                options=[\n",
    "                {'label': 'CS632P', 'value': 'CS632P'},\n",
    "                {'label': 'CS660', 'value': 'CS660'},\n",
    "                {'label': 'CS675', 'value': 'CS675'},\n",
    "                {'label': 'CS623', 'value': 'CS623'},\n",
    "                {'label': 'CS627', 'value': 'CS627'},\n",
    "            ],\n",
    "            value='CS632P',\n",
    "                    ),\n",
    "    html.Div(id='dd-output'),\n",
    "    ])\n",
    "\n",
    "\n",
    "@app.callback(\n",
    "    dash.dependencies.Output('dd-output', 'children'),\n",
    "    dash.dependencies.Input('First_DD', 'value'),\n",
    "    dash.dependencies.Input('Second_DD', 'value'))\n",
    "def update_output(First_DD,Second_DD):\n",
    "    return '{} is the course taught in {}'.format(Second_DD,First_DD)\n",
    "\n",
    "\n",
    "if __name__ == '__main__':\n",
    "    app.run_server(debug=False)"
   ]
  },
  {
   "cell_type": "code",
   "execution_count": null,
   "metadata": {},
   "outputs": [],
   "source": []
  },
  {
   "cell_type": "markdown",
   "metadata": {},
   "source": [
    "# 2nd Method using single dropdown"
   ]
  },
  {
   "cell_type": "code",
   "execution_count": null,
   "metadata": {},
   "outputs": [],
   "source": [
    "import dash\n",
    "import dash_html_components as html\n",
    "import dash_core_components as dcc\n",
    "\n",
    "external_stylesheets = ['https://codepen.io/chriddyp/pen/bWLwgP.css']\n",
    "\n",
    "app = dash.Dash(__name__, external_stylesheets=external_stylesheets)\n",
    "app.layout = html.Div([\n",
    "    dcc.Dropdown(\n",
    "        id='demo-dropdown',\n",
    "        options=[\n",
    "            {'label': 'CS632P', 'value': 'Spring_2021'},\n",
    "            {'label': 'CS660', 'value': 'Spring_2021'},\n",
    "            {'label': 'CS675', 'value': 'spring_2021'},\n",
    "            {'label': 'CS623', 'value': 'Fall_2021'},\n",
    "            {'label': 'CS619', 'value': 'Fall_2021'},\n",
    "            {'label': 'CS627', 'value': 'Fall_2021'},\n",
    "        ],\n",
    "    ),\n",
    "    html.Div(id='dd-output-container')\n",
    "])\n",
    "\n",
    "\n",
    "@app.callback(\n",
    "    dash.dependencies.Output('dd-output-container', 'children'),\n",
    "    [dash.dependencies.Input('demo-dropdown', 'value')])\n",
    "def update_output(value):\n",
    "    return 'You have selected \"{}\"'.format(value)\n",
    "\n",
    "\n",
    "if __name__ == '__main__':\n",
    "    app.run_server(debug=False)"
   ]
  },
  {
   "cell_type": "code",
   "execution_count": null,
   "metadata": {},
   "outputs": [],
   "source": []
  }
 ],
 "metadata": {
  "kernelspec": {
   "display_name": "Python 3",
   "language": "python",
   "name": "python3"
  },
  "language_info": {
   "codemirror_mode": {
    "name": "ipython",
    "version": 3
   },
   "file_extension": ".py",
   "mimetype": "text/x-python",
   "name": "python",
   "nbconvert_exporter": "python",
   "pygments_lexer": "ipython3",
   "version": "3.8.5"
  }
 },
 "nbformat": 4,
 "nbformat_minor": 4
}
